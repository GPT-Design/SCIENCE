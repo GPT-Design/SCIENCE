{
  "nbformat": 4,
  "nbformat_minor": 0,
  "metadata": {
    "colab": {
      "provenance": [],
      "gpuType": "T4",
      "authorship_tag": "ABX9TyN9xGeI9u7M9H4biFhS6L5F",
      "include_colab_link": true
    },
    "kernelspec": {
      "name": "python3",
      "display_name": "Python 3"
    },
    "language_info": {
      "name": "python"
    },
    "accelerator": "GPU"
  },
  "cells": [
    {
      "cell_type": "markdown",
      "metadata": {
        "id": "view-in-github",
        "colab_type": "text"
      },
      "source": [
        "<a href=\"https://colab.research.google.com/github/GPT-Design/SCIENCE/blob/main/Galactic_Rotation.ipynb\" target=\"_parent\"><img src=\"https://colab.research.google.com/assets/colab-badge.svg\" alt=\"Open In Colab\"/></a>"
      ]
    },
    {
      "cell_type": "markdown",
      "source": [
        "# **Galactic Rotation Curves Analysis**\n",
        "**Three-Tensor Entropy Gravity (3T_E) vs. ΛCDM, GR, and Observed Data**\n",
        "\n",
        "Data sourced from: https://academic.oup.com/mnras/article/383/1/297/1069692\n",
        "\n",
        "Initial data labels for Optical and HI velocities were inadvertently swapped. This error was explicitly corrected prior to final analysis and has no impact on final conclusions.\n",
        "\n",
        "*Date: 20 March 2025*  \n",
        "*Prepared for publication.*\n"
      ],
      "metadata": {
        "id": "YS7YKqkzUTUd"
      }
    },
    {
      "cell_type": "code",
      "execution_count": null,
      "metadata": {
        "colab": {
          "base_uri": "https://localhost:8080/"
        },
        "id": "NoV5gFsgUOoy",
        "outputId": "6b111bf4-a5e2-4c44-8a77-6bf8262edec1"
      },
      "outputs": [
        {
          "output_type": "stream",
          "name": "stdout",
          "text": [
            "Drive already mounted at /content/drive; to attempt to forcibly remount, call drive.mount(\"/content/drive\", force_remount=True).\n"
          ]
        }
      ],
      "source": [
        "# Mount Google Drive\n",
        "from google.colab import drive\n",
        "drive.mount('/content/drive')"
      ]
    },
    {
      "cell_type": "code",
      "source": [
        "# Navigate to working directory\n",
        "import os\n",
        "os.chdir('/content/drive/My Drive/AI/3TE/GALACTIC ROTATION')\n",
        "\n",
        "# Confirm file is accessible\n",
        "!ls"
      ],
      "metadata": {
        "colab": {
          "base_uri": "https://localhost:8080/"
        },
        "id": "hglU1A6ZUblu",
        "outputId": "32cd5bfe-cc51-49c2-ea1b-2d4043c2a80e"
      },
      "execution_count": null,
      "outputs": [
        {
          "output_type": "stream",
          "name": "stdout",
          "text": [
            " mnras0383-0297.pdf  'UGC 2455'  'UGC 4325'\n",
            " OLD\t\t     'UGC 2503'  'UGC 4325 H alpha and Optical rotation_data.csv'\n",
            "'UGC 2034'\t     'UGC 4274'  'UGC 4325 H alpha and Optical rotation_data.gsheet'\n"
          ]
        }
      ]
    },
    {
      "cell_type": "markdown",
      "source": [
        "## **Setup and Dependencies**\n",
        "We install and import the libraries necessary for CUDA-based computations and data analysis.\n"
      ],
      "metadata": {
        "id": "3rk2EXP9UcON"
      }
    },
    {
      "cell_type": "code",
      "source": [
        "# Install dependencies - Check CUDA version\n",
        "#!pip install cupy-cuda11x # pandas matplotlib scipy python-docx\n",
        "#!nvcc --version"
      ],
      "metadata": {
        "id": "QLcJZoF5Ucmp"
      },
      "execution_count": null,
      "outputs": []
    },
    {
      "cell_type": "code",
      "source": [
        "# Import necessary libraries explicitly\n",
        "import cupy as cp\n",
        "import numpy as np\n",
        "import pandas as pd\n",
        "import matplotlib.pyplot as plt\n",
        "from scipy.stats import linregress, kstest\n",
        "from scipy.special import i0, i1, k0, k1\n",
        "import glob\n",
        "import os"
      ],
      "metadata": {
        "id": "KjXMBAXdUcA6"
      },
      "execution_count": null,
      "outputs": []
    },
    {
      "cell_type": "markdown",
      "source": [
        "## **Load and Verify Galactic Rotation Data**\n",
        "The data extracted from the provided publication sources is loaded here for initial inspection and verification.\n"
      ],
      "metadata": {
        "id": "MbOJ-t_dUaqp"
      }
    },
    {
      "cell_type": "code",
      "source": [
        "# Automatically find any file matching '*rotation_data.csv'\n",
        "file_list = glob.glob('*rotation_data.csv')\n",
        "\n",
        "if len(file_list) == 0:\n",
        "    print(\"No matching CSV file found.\")\n",
        "else:\n",
        "    # Just take the first matching file\n",
        "    file_to_load = file_list[0]\n",
        "    print(f\"Loading file: {file_to_load}\")\n",
        "\n",
        "    # Load the CSV\n",
        "    rotation_data = pd.read_csv(file_to_load)\n",
        "\n",
        "    # Preview the data\n",
        "    print(rotation_data.head(10))"
      ],
      "metadata": {
        "colab": {
          "base_uri": "https://localhost:8080/"
        },
        "id": "rvH9kl1_Ua3z",
        "outputId": "88fe1051-d10c-4857-8edd-0cdb05347d15"
      },
      "execution_count": null,
      "outputs": [
        {
          "output_type": "stream",
          "name": "stdout",
          "text": [
            "Loading file: UGC 4325 H alpha and Optical rotation_data.csv\n",
            "  Measurement_Type  Radius_kpc  Velocity_km_s  Velocity_upper_error_km_s  \\\n",
            "0          optical      4.4118           90.0                       96.0   \n",
            "1          optical      5.2941           93.0                       98.0   \n",
            "2          optical      6.1765           94.0                      100.0   \n",
            "3          optical      7.0588           91.0                       97.0   \n",
            "4          H alpha      0.2647           10.0                       18.0   \n",
            "5          H alpha      0.4853            2.0                       12.0   \n",
            "6          H alpha      0.7059           18.0                       25.0   \n",
            "7          H alpha      0.8824           34.0                       48.0   \n",
            "8          H alpha      1.0588           55.0                       62.0   \n",
            "9          H alpha      1.2353           69.0                       76.0   \n",
            "\n",
            "   Velocity_lower_error_km_s  \n",
            "0                       85.0  \n",
            "1                       86.0  \n",
            "2                       86.0  \n",
            "3                       86.0  \n",
            "4                        2.0  \n",
            "5                       -8.0  \n",
            "6                       11.0  \n",
            "7                       24.0  \n",
            "8                       50.0  \n",
            "9                       64.0  \n"
          ]
        }
      ]
    },
    {
      "cell_type": "markdown",
      "source": [
        "## **Extract and Structure Data**\n",
        "We now extract structured tables from the Word document into usable Pandas DataFrames.\n"
      ],
      "metadata": {
        "id": "LbFAJo7aUhPr"
      }
    },
    {
      "cell_type": "code",
      "source": [
        "def extract_rotation_data_from_csv(pattern='*rotation_data.csv'):\n",
        "    rotation_data = {}\n",
        "    file_list = glob.glob(pattern)\n",
        "\n",
        "    if not file_list:\n",
        "        print(\"No CSV files matching pattern found.\")\n",
        "        return rotation_data\n",
        "\n",
        "    for file_path in file_list:\n",
        "        # Load CSV file into DataFrame\n",
        "        df = pd.read_csv(file_path)\n",
        "\n",
        "        # Use filename (without path) as dataset name\n",
        "        dataset_name = file_path.split('/')[-1]\n",
        "\n",
        "        # Store DataFrame clearly indexed by dataset name\n",
        "        rotation_data[dataset_name] = df\n",
        "\n",
        "    return rotation_data\n",
        "\n",
        "# Extract datasets clearly from CSV files\n",
        "rotation_data = extract_rotation_data_from_csv()\n",
        "\n",
        "# Display datasets to confirm clear extraction\n",
        "for name, df in rotation_data.items():\n",
        "    print(f'\\nDataset: {name}')\n",
        "    display(df.head(10))"
      ],
      "metadata": {
        "colab": {
          "base_uri": "https://localhost:8080/",
          "height": 418
        },
        "id": "kRs0bQMgUh3Z",
        "outputId": "184f6649-3ab1-428b-a6c8-1f8fe14f9d16"
      },
      "execution_count": null,
      "outputs": [
        {
          "output_type": "stream",
          "name": "stdout",
          "text": [
            "\n",
            "Dataset: UGC 4325 H alpha and Optical rotation_data.csv\n"
          ]
        },
        {
          "output_type": "display_data",
          "data": {
            "text/plain": [
              "  Measurement_Type  Radius_kpc  Velocity_km_s  Velocity_upper_error_km_s  \\\n",
              "0          optical      4.4118           90.0                       96.0   \n",
              "1          optical      5.2941           93.0                       98.0   \n",
              "2          optical      6.1765           94.0                      100.0   \n",
              "3          optical      7.0588           91.0                       97.0   \n",
              "4          H alpha      0.2647           10.0                       18.0   \n",
              "5          H alpha      0.4853            2.0                       12.0   \n",
              "6          H alpha      0.7059           18.0                       25.0   \n",
              "7          H alpha      0.8824           34.0                       48.0   \n",
              "8          H alpha      1.0588           55.0                       62.0   \n",
              "9          H alpha      1.2353           69.0                       76.0   \n",
              "\n",
              "   Velocity_lower_error_km_s  \n",
              "0                       85.0  \n",
              "1                       86.0  \n",
              "2                       86.0  \n",
              "3                       86.0  \n",
              "4                        2.0  \n",
              "5                       -8.0  \n",
              "6                       11.0  \n",
              "7                       24.0  \n",
              "8                       50.0  \n",
              "9                       64.0  "
            ],
            "text/html": [
              "\n",
              "  <div id=\"df-5443afc7-962e-47da-9130-55bd07f1fb30\" class=\"colab-df-container\">\n",
              "    <div>\n",
              "<style scoped>\n",
              "    .dataframe tbody tr th:only-of-type {\n",
              "        vertical-align: middle;\n",
              "    }\n",
              "\n",
              "    .dataframe tbody tr th {\n",
              "        vertical-align: top;\n",
              "    }\n",
              "\n",
              "    .dataframe thead th {\n",
              "        text-align: right;\n",
              "    }\n",
              "</style>\n",
              "<table border=\"1\" class=\"dataframe\">\n",
              "  <thead>\n",
              "    <tr style=\"text-align: right;\">\n",
              "      <th></th>\n",
              "      <th>Measurement_Type</th>\n",
              "      <th>Radius_kpc</th>\n",
              "      <th>Velocity_km_s</th>\n",
              "      <th>Velocity_upper_error_km_s</th>\n",
              "      <th>Velocity_lower_error_km_s</th>\n",
              "    </tr>\n",
              "  </thead>\n",
              "  <tbody>\n",
              "    <tr>\n",
              "      <th>0</th>\n",
              "      <td>optical</td>\n",
              "      <td>4.4118</td>\n",
              "      <td>90.0</td>\n",
              "      <td>96.0</td>\n",
              "      <td>85.0</td>\n",
              "    </tr>\n",
              "    <tr>\n",
              "      <th>1</th>\n",
              "      <td>optical</td>\n",
              "      <td>5.2941</td>\n",
              "      <td>93.0</td>\n",
              "      <td>98.0</td>\n",
              "      <td>86.0</td>\n",
              "    </tr>\n",
              "    <tr>\n",
              "      <th>2</th>\n",
              "      <td>optical</td>\n",
              "      <td>6.1765</td>\n",
              "      <td>94.0</td>\n",
              "      <td>100.0</td>\n",
              "      <td>86.0</td>\n",
              "    </tr>\n",
              "    <tr>\n",
              "      <th>3</th>\n",
              "      <td>optical</td>\n",
              "      <td>7.0588</td>\n",
              "      <td>91.0</td>\n",
              "      <td>97.0</td>\n",
              "      <td>86.0</td>\n",
              "    </tr>\n",
              "    <tr>\n",
              "      <th>4</th>\n",
              "      <td>H alpha</td>\n",
              "      <td>0.2647</td>\n",
              "      <td>10.0</td>\n",
              "      <td>18.0</td>\n",
              "      <td>2.0</td>\n",
              "    </tr>\n",
              "    <tr>\n",
              "      <th>5</th>\n",
              "      <td>H alpha</td>\n",
              "      <td>0.4853</td>\n",
              "      <td>2.0</td>\n",
              "      <td>12.0</td>\n",
              "      <td>-8.0</td>\n",
              "    </tr>\n",
              "    <tr>\n",
              "      <th>6</th>\n",
              "      <td>H alpha</td>\n",
              "      <td>0.7059</td>\n",
              "      <td>18.0</td>\n",
              "      <td>25.0</td>\n",
              "      <td>11.0</td>\n",
              "    </tr>\n",
              "    <tr>\n",
              "      <th>7</th>\n",
              "      <td>H alpha</td>\n",
              "      <td>0.8824</td>\n",
              "      <td>34.0</td>\n",
              "      <td>48.0</td>\n",
              "      <td>24.0</td>\n",
              "    </tr>\n",
              "    <tr>\n",
              "      <th>8</th>\n",
              "      <td>H alpha</td>\n",
              "      <td>1.0588</td>\n",
              "      <td>55.0</td>\n",
              "      <td>62.0</td>\n",
              "      <td>50.0</td>\n",
              "    </tr>\n",
              "    <tr>\n",
              "      <th>9</th>\n",
              "      <td>H alpha</td>\n",
              "      <td>1.2353</td>\n",
              "      <td>69.0</td>\n",
              "      <td>76.0</td>\n",
              "      <td>64.0</td>\n",
              "    </tr>\n",
              "  </tbody>\n",
              "</table>\n",
              "</div>\n",
              "    <div class=\"colab-df-buttons\">\n",
              "\n",
              "  <div class=\"colab-df-container\">\n",
              "    <button class=\"colab-df-convert\" onclick=\"convertToInteractive('df-5443afc7-962e-47da-9130-55bd07f1fb30')\"\n",
              "            title=\"Convert this dataframe to an interactive table.\"\n",
              "            style=\"display:none;\">\n",
              "\n",
              "  <svg xmlns=\"http://www.w3.org/2000/svg\" height=\"24px\" viewBox=\"0 -960 960 960\">\n",
              "    <path d=\"M120-120v-720h720v720H120Zm60-500h600v-160H180v160Zm220 220h160v-160H400v160Zm0 220h160v-160H400v160ZM180-400h160v-160H180v160Zm440 0h160v-160H620v160ZM180-180h160v-160H180v160Zm440 0h160v-160H620v160Z\"/>\n",
              "  </svg>\n",
              "    </button>\n",
              "\n",
              "  <style>\n",
              "    .colab-df-container {\n",
              "      display:flex;\n",
              "      gap: 12px;\n",
              "    }\n",
              "\n",
              "    .colab-df-convert {\n",
              "      background-color: #E8F0FE;\n",
              "      border: none;\n",
              "      border-radius: 50%;\n",
              "      cursor: pointer;\n",
              "      display: none;\n",
              "      fill: #1967D2;\n",
              "      height: 32px;\n",
              "      padding: 0 0 0 0;\n",
              "      width: 32px;\n",
              "    }\n",
              "\n",
              "    .colab-df-convert:hover {\n",
              "      background-color: #E2EBFA;\n",
              "      box-shadow: 0px 1px 2px rgba(60, 64, 67, 0.3), 0px 1px 3px 1px rgba(60, 64, 67, 0.15);\n",
              "      fill: #174EA6;\n",
              "    }\n",
              "\n",
              "    .colab-df-buttons div {\n",
              "      margin-bottom: 4px;\n",
              "    }\n",
              "\n",
              "    [theme=dark] .colab-df-convert {\n",
              "      background-color: #3B4455;\n",
              "      fill: #D2E3FC;\n",
              "    }\n",
              "\n",
              "    [theme=dark] .colab-df-convert:hover {\n",
              "      background-color: #434B5C;\n",
              "      box-shadow: 0px 1px 3px 1px rgba(0, 0, 0, 0.15);\n",
              "      filter: drop-shadow(0px 1px 2px rgba(0, 0, 0, 0.3));\n",
              "      fill: #FFFFFF;\n",
              "    }\n",
              "  </style>\n",
              "\n",
              "    <script>\n",
              "      const buttonEl =\n",
              "        document.querySelector('#df-5443afc7-962e-47da-9130-55bd07f1fb30 button.colab-df-convert');\n",
              "      buttonEl.style.display =\n",
              "        google.colab.kernel.accessAllowed ? 'block' : 'none';\n",
              "\n",
              "      async function convertToInteractive(key) {\n",
              "        const element = document.querySelector('#df-5443afc7-962e-47da-9130-55bd07f1fb30');\n",
              "        const dataTable =\n",
              "          await google.colab.kernel.invokeFunction('convertToInteractive',\n",
              "                                                    [key], {});\n",
              "        if (!dataTable) return;\n",
              "\n",
              "        const docLinkHtml = 'Like what you see? Visit the ' +\n",
              "          '<a target=\"_blank\" href=https://colab.research.google.com/notebooks/data_table.ipynb>data table notebook</a>'\n",
              "          + ' to learn more about interactive tables.';\n",
              "        element.innerHTML = '';\n",
              "        dataTable['output_type'] = 'display_data';\n",
              "        await google.colab.output.renderOutput(dataTable, element);\n",
              "        const docLink = document.createElement('div');\n",
              "        docLink.innerHTML = docLinkHtml;\n",
              "        element.appendChild(docLink);\n",
              "      }\n",
              "    </script>\n",
              "  </div>\n",
              "\n",
              "\n",
              "<div id=\"df-1ee9c798-af79-478f-b274-fbf3711137fc\">\n",
              "  <button class=\"colab-df-quickchart\" onclick=\"quickchart('df-1ee9c798-af79-478f-b274-fbf3711137fc')\"\n",
              "            title=\"Suggest charts\"\n",
              "            style=\"display:none;\">\n",
              "\n",
              "<svg xmlns=\"http://www.w3.org/2000/svg\" height=\"24px\"viewBox=\"0 0 24 24\"\n",
              "     width=\"24px\">\n",
              "    <g>\n",
              "        <path d=\"M19 3H5c-1.1 0-2 .9-2 2v14c0 1.1.9 2 2 2h14c1.1 0 2-.9 2-2V5c0-1.1-.9-2-2-2zM9 17H7v-7h2v7zm4 0h-2V7h2v10zm4 0h-2v-4h2v4z\"/>\n",
              "    </g>\n",
              "</svg>\n",
              "  </button>\n",
              "\n",
              "<style>\n",
              "  .colab-df-quickchart {\n",
              "      --bg-color: #E8F0FE;\n",
              "      --fill-color: #1967D2;\n",
              "      --hover-bg-color: #E2EBFA;\n",
              "      --hover-fill-color: #174EA6;\n",
              "      --disabled-fill-color: #AAA;\n",
              "      --disabled-bg-color: #DDD;\n",
              "  }\n",
              "\n",
              "  [theme=dark] .colab-df-quickchart {\n",
              "      --bg-color: #3B4455;\n",
              "      --fill-color: #D2E3FC;\n",
              "      --hover-bg-color: #434B5C;\n",
              "      --hover-fill-color: #FFFFFF;\n",
              "      --disabled-bg-color: #3B4455;\n",
              "      --disabled-fill-color: #666;\n",
              "  }\n",
              "\n",
              "  .colab-df-quickchart {\n",
              "    background-color: var(--bg-color);\n",
              "    border: none;\n",
              "    border-radius: 50%;\n",
              "    cursor: pointer;\n",
              "    display: none;\n",
              "    fill: var(--fill-color);\n",
              "    height: 32px;\n",
              "    padding: 0;\n",
              "    width: 32px;\n",
              "  }\n",
              "\n",
              "  .colab-df-quickchart:hover {\n",
              "    background-color: var(--hover-bg-color);\n",
              "    box-shadow: 0 1px 2px rgba(60, 64, 67, 0.3), 0 1px 3px 1px rgba(60, 64, 67, 0.15);\n",
              "    fill: var(--button-hover-fill-color);\n",
              "  }\n",
              "\n",
              "  .colab-df-quickchart-complete:disabled,\n",
              "  .colab-df-quickchart-complete:disabled:hover {\n",
              "    background-color: var(--disabled-bg-color);\n",
              "    fill: var(--disabled-fill-color);\n",
              "    box-shadow: none;\n",
              "  }\n",
              "\n",
              "  .colab-df-spinner {\n",
              "    border: 2px solid var(--fill-color);\n",
              "    border-color: transparent;\n",
              "    border-bottom-color: var(--fill-color);\n",
              "    animation:\n",
              "      spin 1s steps(1) infinite;\n",
              "  }\n",
              "\n",
              "  @keyframes spin {\n",
              "    0% {\n",
              "      border-color: transparent;\n",
              "      border-bottom-color: var(--fill-color);\n",
              "      border-left-color: var(--fill-color);\n",
              "    }\n",
              "    20% {\n",
              "      border-color: transparent;\n",
              "      border-left-color: var(--fill-color);\n",
              "      border-top-color: var(--fill-color);\n",
              "    }\n",
              "    30% {\n",
              "      border-color: transparent;\n",
              "      border-left-color: var(--fill-color);\n",
              "      border-top-color: var(--fill-color);\n",
              "      border-right-color: var(--fill-color);\n",
              "    }\n",
              "    40% {\n",
              "      border-color: transparent;\n",
              "      border-right-color: var(--fill-color);\n",
              "      border-top-color: var(--fill-color);\n",
              "    }\n",
              "    60% {\n",
              "      border-color: transparent;\n",
              "      border-right-color: var(--fill-color);\n",
              "    }\n",
              "    80% {\n",
              "      border-color: transparent;\n",
              "      border-right-color: var(--fill-color);\n",
              "      border-bottom-color: var(--fill-color);\n",
              "    }\n",
              "    90% {\n",
              "      border-color: transparent;\n",
              "      border-bottom-color: var(--fill-color);\n",
              "    }\n",
              "  }\n",
              "</style>\n",
              "\n",
              "  <script>\n",
              "    async function quickchart(key) {\n",
              "      const quickchartButtonEl =\n",
              "        document.querySelector('#' + key + ' button');\n",
              "      quickchartButtonEl.disabled = true;  // To prevent multiple clicks.\n",
              "      quickchartButtonEl.classList.add('colab-df-spinner');\n",
              "      try {\n",
              "        const charts = await google.colab.kernel.invokeFunction(\n",
              "            'suggestCharts', [key], {});\n",
              "      } catch (error) {\n",
              "        console.error('Error during call to suggestCharts:', error);\n",
              "      }\n",
              "      quickchartButtonEl.classList.remove('colab-df-spinner');\n",
              "      quickchartButtonEl.classList.add('colab-df-quickchart-complete');\n",
              "    }\n",
              "    (() => {\n",
              "      let quickchartButtonEl =\n",
              "        document.querySelector('#df-1ee9c798-af79-478f-b274-fbf3711137fc button');\n",
              "      quickchartButtonEl.style.display =\n",
              "        google.colab.kernel.accessAllowed ? 'block' : 'none';\n",
              "    })();\n",
              "  </script>\n",
              "</div>\n",
              "\n",
              "    </div>\n",
              "  </div>\n"
            ],
            "application/vnd.google.colaboratory.intrinsic+json": {
              "type": "dataframe",
              "summary": "{\n  \"name\": \"    display(df\",\n  \"rows\": 10,\n  \"fields\": [\n    {\n      \"column\": \"Measurement_Type\",\n      \"properties\": {\n        \"dtype\": \"category\",\n        \"num_unique_values\": 2,\n        \"samples\": [\n          \"H alpha\",\n          \"optical\"\n        ],\n        \"semantic_type\": \"\",\n        \"description\": \"\"\n      }\n    },\n    {\n      \"column\": \"Radius_kpc\",\n      \"properties\": {\n        \"dtype\": \"number\",\n        \"std\": 2.6597090969586215,\n        \"min\": 0.2647,\n        \"max\": 7.0588,\n        \"num_unique_values\": 10,\n        \"samples\": [\n          1.0588,\n          5.2941\n        ],\n        \"semantic_type\": \"\",\n        \"description\": \"\"\n      }\n    },\n    {\n      \"column\": \"Velocity_km_s\",\n      \"properties\": {\n        \"dtype\": \"number\",\n        \"std\": 37.002102042391535,\n        \"min\": 2.0,\n        \"max\": 94.0,\n        \"num_unique_values\": 10,\n        \"samples\": [\n          55.0,\n          93.0\n        ],\n        \"semantic_type\": \"\",\n        \"description\": \"\"\n      }\n    },\n    {\n      \"column\": \"Velocity_upper_error_km_s\",\n      \"properties\": {\n        \"dtype\": \"number\",\n        \"std\": 35.43946325151604,\n        \"min\": 12.0,\n        \"max\": 100.0,\n        \"num_unique_values\": 10,\n        \"samples\": [\n          62.0,\n          98.0\n        ],\n        \"semantic_type\": \"\",\n        \"description\": \"\"\n      }\n    },\n    {\n      \"column\": \"Velocity_lower_error_km_s\",\n      \"properties\": {\n        \"dtype\": \"number\",\n        \"std\": 38.230877572977576,\n        \"min\": -8.0,\n        \"max\": 86.0,\n        \"num_unique_values\": 8,\n        \"samples\": [\n          86.0,\n          24.0\n        ],\n        \"semantic_type\": \"\",\n        \"description\": \"\"\n      }\n    }\n  ]\n}"
            }
          },
          "metadata": {}
        }
      ]
    },
    {
      "cell_type": "markdown",
      "source": [
        "## **CUDA-Accelerated Monte Carlo Simulation for Galactic Rotation Curves**\n",
        "\n",
        "We rigorously propagate observational uncertainties through gravitational models (**3T_E**, **ΛCDM**, and **General Relativity (GR)**) by using optimized GPU-accelerated Monte Carlo simulations (**CuPy/CUDA**). This robust method allows direct and quantitative comparison between simulated and observed galactic rotation curves.\n",
        "\n",
        "### **Methodology:**\n",
        "\n",
        "- **GPU-Based Parameter Sampling:** Parameters are drawn explicitly from Gaussian distributions to reflect realistic observational uncertainties.\n",
        "- **Monte Carlo Velocity Simulations:** Velocity distributions are simulated directly on GPU, ensuring computational efficiency and precision.\n",
        "- **Statistical Validation:** Model accuracy and potential biases are rigorously quantified through linear regression and Kolmogorov–Smirnov tests."
      ],
      "metadata": {
        "id": "jgg-nQzWU6Ov"
      }
    },
    {
      "cell_type": "code",
      "source": [
        "# Monte Carlo Simulation Function (CuPy/CUDA Accelerated)\n",
        "def monte_carlo_simulation(radii, observed_velocities, velocity_errors, model_function,\n",
        "                           params_mean, params_std, n_samples=10000):\n",
        "    cp.random.seed(42)\n",
        "\n",
        "    # Convert radii clearly to GPU arrays\n",
        "    radii_gpu = cp.asarray(radii, dtype=cp.float32)\n",
        "\n",
        "    # Clearly sample parameter distributions (on GPU)\n",
        "    sampled_params = [cp.random.normal(mean, std, n_samples).astype(cp.float32)\n",
        "                      for mean, std in zip(params_mean, params_std)]\n",
        "\n",
        "    # Explicitly define GPU array for velocities\n",
        "    velocities_simulated = cp.zeros((n_samples, radii_gpu.size), dtype=cp.float32)\n",
        "\n",
        "    for i in range(n_samples):\n",
        "        # Pass sampled parameters clearly into the provided gravity model\n",
        "        params_i = [p[i] for p in sampled_params]\n",
        "        velocities_simulated[i, :] = model_function(radii_gpu, *params_i)\n",
        "\n",
        "    # Compute mean and standard deviation explicitly\n",
        "    mean_velocity = cp.mean(velocities_simulated, axis=0)\n",
        "    velocity_std = cp.std(velocities_simulated, axis=0)\n",
        "\n",
        "    # Clearly transfer results back to CPU\n",
        "    return mean_velocity.get(), velocity_std.get()"
      ],
      "metadata": {
        "id": "hF6dV4ELU6jF"
      },
      "execution_count": null,
      "outputs": []
    },
    {
      "cell_type": "markdown",
      "source": [
        "## **Improved & CUDA-Optimized Galactic Rotation Models**\n",
        "1. General Relativity (Baryonic Component - Exponential Disk Model)\n",
        "This model uses a physically realistic exponential disk mass profile, which is the standard in galactic rotation modeling.\n"
      ],
      "metadata": {
        "id": "yX_AbojkWWTK"
      }
    },
    {
      "cell_type": "code",
      "source": [
        "def model_gr(r, M_disk, disk_scale_length):\n",
        "    \"\"\"\n",
        "    GR rotation curve from an exponential baryonic disk.\n",
        "\n",
        "    Parameters:\n",
        "    r : radius array (kpc)\n",
        "    M_disk : total disk mass (solar masses)\n",
        "    disk_scale_length : exponential disk scale-length (kpc)\n",
        "    \"\"\"\n",
        "    G = 4.30091e-6  # gravitational constant [kpc·(km/s)^2·Msun^−1]\n",
        "\n",
        "    x = r / (2.0 * disk_scale_length)\n",
        "    bessel_term = cp.i0(x) * cp.k0(x) - cp.i1(x) * cp.k1(x)\n",
        "\n",
        "    # Avoid non-physical behavior at very small radii\n",
        "    bessel_term = cp.nan_to_num(bessel_term, nan=0.0, posinf=0.0, neginf=0.0)\n",
        "\n",
        "    v_squared = (G * M_disk / disk_scale_length) * 2.0 * x**2 * bessel_term\n",
        "    return cp.sqrt(cp.maximum(v_squared, 0))\n"
      ],
      "metadata": {
        "id": "LwpSz5K8WdIM"
      },
      "execution_count": null,
      "outputs": []
    },
    {
      "cell_type": "markdown",
      "source": [
        "2. ΛCDM Model (Navarro–Frenk–White Dark Matter Halo + Baryonic Disk)\n",
        "Properly implements the widely accepted NFW halo model, precisely including the exponential baryonic disk."
      ],
      "metadata": {
        "id": "DEZMsQGIH2cz"
      }
    },
    {
      "cell_type": "code",
      "source": [
        "def model_lcdm(r, M_disk, disk_scale_length, rho0, r_s):\n",
        "    \"\"\"\n",
        "    ΛCDM model with NFW halo + baryonic exponential disk.\n",
        "\n",
        "    Parameters:\n",
        "    r : radius array (kpc)\n",
        "    M_disk : total baryonic disk mass (solar masses)\n",
        "    disk_scale_length : exponential disk scale-length (kpc)\n",
        "    rho0 : characteristic density of halo (Msun/kpc^3)\n",
        "    r_s : halo scale radius (kpc)\n",
        "    \"\"\"\n",
        "    G = 4.30091e-6  # [kpc·(km/s)^2·Msun^−1]\n",
        "\n",
        "    # Disk velocity from the improved GR model above\n",
        "    v_disk = model_gr(r, M_disk, disk_scale_length)\n",
        "\n",
        "    # NFW halo enclosed mass\n",
        "    x = r / r_s\n",
        "    enclosed_dm_mass = 4.0 * np.pi * rho0 * r_s**3 * (cp.log(1 + x) - x / (1 + x))\n",
        "\n",
        "    # NFW halo velocity\n",
        "    v_halo = cp.sqrt(G * enclosed_dm_mass / cp.maximum(r, 1e-5))\n",
        "\n",
        "    # Total rotational velocity (disk and halo combined quadratically)\n",
        "    return cp.sqrt(v_disk**2 + v_halo**2)"
      ],
      "metadata": {
        "id": "Ouur9k8JH2S9"
      },
      "execution_count": null,
      "outputs": []
    },
    {
      "cell_type": "markdown",
      "source": [
        "3. Three-Tensor Entropy Gravity Model (3T_E)\n",
        "Enhanced to include a realistic radial entropy gradient, smoothly modifying gravitational potential at large radii."
      ],
      "metadata": {
        "id": "kVJG2TXsH1cr"
      }
    },
    {
      "cell_type": "code",
      "source": [
        "def model_3te(r, M_disk, disk_scale_length, alpha_entropy, entropy_scale_radius):\n",
        "    \"\"\"\n",
        "    3T_E model: Exponential disk mass profile + entropy gradient modification.\n",
        "\n",
        "    Parameters:\n",
        "    r : radius array (kpc)\n",
        "    M_disk : total disk mass (solar masses)\n",
        "    disk_scale_length : exponential disk scale-length (kpc)\n",
        "    alpha_entropy : entropy coupling factor (dimensionless, small ~0.01–0.05)\n",
        "    entropy_scale_radius : radius scale for entropy influence (kpc)\n",
        "    \"\"\"\n",
        "    # Base velocity from GR baryonic disk\n",
        "    v_gr_disk = model_gr(r, M_disk, disk_scale_length)\n",
        "\n",
        "    # Realistic entropy modification (radial dependence smoothly increasing at large radii)\n",
        "    entropy_gradient = 1.0 + alpha_entropy * (1 - cp.exp(-r / entropy_scale_radius))\n",
        "\n",
        "    return v_gr_disk * entropy_gradient\n"
      ],
      "metadata": {
        "id": "4w88OZ2GH1qt"
      },
      "execution_count": null,
      "outputs": []
    },
    {
      "cell_type": "markdown",
      "source": [
        "## **Data Preparation and Parameters**\n",
        "Use observational data from provided documents and realistic parameter distributions to reflect observational uncertainties.\n"
      ],
      "metadata": {
        "id": "Okk7PLWNWc0g"
      }
    },
    {
      "cell_type": "code",
      "source": [
        "# Load observational rotation data (Optical and Hα clearly combined)\n",
        "\n",
        "# Automatically find CSV files matching your data pattern\n",
        "file_list = glob.glob('*rotation_data.csv')\n",
        "\n",
        "if len(file_list) == 0:\n",
        "    raise FileNotFoundError(\"No rotation data CSV file found.\")\n",
        "\n",
        "# Load the first matching file clearly\n",
        "rotation_df = pd.read_csv(file_list[0])\n",
        "\n",
        "# Clearly extract radius, velocities, and error bars\n",
        "radii_example = rotation_df['Radius_kpc'].values\n",
        "observed_velocities_example = rotation_df['Velocity_km_s'].values\n",
        "\n",
        "# Symmetric error from upper/lower limits (clearly averaged)\n",
        "velocity_errors_example = (\n",
        "    (rotation_df['Velocity_upper_error_km_s'].values -\n",
        "     rotation_df['Velocity_lower_error_km_s'].values) / 2.0\n",
        ")\n",
        "\n",
        "# Check data integrity explicitly\n",
        "print(f\"Loaded data from: {file_list[0]}\")\n",
        "print(rotation_df.head())\n",
        "\n",
        "# Example physically realistic parameters (adjust based on literature for galaxy UGC 2034 or others)\n",
        "params_gr_mean = [5.0e9, 1.5]  # [Disk mass in Msun, disk scale length in kpc]\n",
        "params_gr_std = [0.5e9, 0.2]\n",
        "\n",
        "params_lcdm_mean = [4.5e9, 1.5, 1e7, 10.0]  # [Disk mass, disk scale length, halo density, halo scale radius]\n",
        "params_lcdm_std = [0.4e9, 0.2, 2e6, 2.0]\n",
        "\n",
        "params_3te_mean = [5.0e9, 1.5, 0.03, 8.0]  # [Disk mass, disk scale length, entropy coupling, entropy scale radius]\n",
        "params_3te_std = [0.5e9, 0.2, 0.005, 1.0]\n"
      ],
      "metadata": {
        "id": "25Wh0rw4Wcoe",
        "colab": {
          "base_uri": "https://localhost:8080/"
        },
        "outputId": "4cf6aa9c-2f17-4ca7-8b6d-1219a03f59af"
      },
      "execution_count": null,
      "outputs": [
        {
          "output_type": "stream",
          "name": "stdout",
          "text": [
            "Loaded data from: UGC 4325 H alpha and Optical rotation_data.csv\n",
            "  Measurement_Type  Radius_kpc  Velocity_km_s  Velocity_upper_error_km_s  \\\n",
            "0          optical      4.4118           90.0                       96.0   \n",
            "1          optical      5.2941           93.0                       98.0   \n",
            "2          optical      6.1765           94.0                      100.0   \n",
            "3          optical      7.0588           91.0                       97.0   \n",
            "4          H alpha      0.2647           10.0                       18.0   \n",
            "\n",
            "   Velocity_lower_error_km_s  \n",
            "0                       85.0  \n",
            "1                       86.0  \n",
            "2                       86.0  \n",
            "3                       86.0  \n",
            "4                        2.0  \n"
          ]
        }
      ]
    },
    {
      "cell_type": "markdown",
      "source": [
        "## **Running CUDA-accelerated Monte Carlo Simulations**\n",
        "Now we execute the simulations on CUDA-enabled GPUs.\n"
      ],
      "metadata": {
        "id": "9yly-PxcWca2"
      }
    },
    {
      "cell_type": "code",
      "source": [
        "# Ensure radii array explicitly converted to GPU-compatible type\n",
        "radii_gpu = cp.asarray(radii_example, dtype=cp.float32)\n",
        "\n",
        "# Define GR model explicitly (GPU-CPU hybrid for Bessel functions)\n",
        "from scipy.special import i0, i1, k0, k1\n",
        "\n",
        "def model_gr(r_gpu, M_disk_gpu, disk_scale_length_gpu):\n",
        "    \"\"\"\n",
        "    GR rotation curve with exponential baryonic disk.\n",
        "    Hybrid GPU-CPU due to CuPy's missing Bessel functions.\n",
        "    \"\"\"\n",
        "    G = 4.30091e-6  # gravitational constant [kpc·(km/s)^2·Msun^−1]\n",
        "\n",
        "    # Convert GPU arrays explicitly to CPU scalars\n",
        "    M_disk = float(cp.asnumpy(M_disk_gpu))\n",
        "    disk_scale_length = float(cp.asnumpy(disk_scale_length_gpu))\n",
        "    r_cpu = cp.asnumpy(r_gpu)\n",
        "\n",
        "    x = r_cpu / (2.0 * disk_scale_length)\n",
        "    bessel_term = i0(x) * k0(x) - i1(x) * k1(x)\n",
        "    bessel_term = np.nan_to_num(bessel_term, nan=0.0, posinf=0.0, neginf=0.0)\n",
        "\n",
        "    v_squared_cpu = (G * M_disk / disk_scale_length) * 2.0 * x**2 * bessel_term\n",
        "    v_squared_cpu = np.maximum(v_squared_cpu, 0)\n",
        "\n",
        "    # Convert back explicitly to GPU arrays for the final output\n",
        "    v_squared_gpu = cp.asarray(v_squared_cpu, dtype=cp.float32)\n",
        "\n",
        "    return cp.sqrt(v_squared_gpu)\n",
        "\n",
        "# Run Monte Carlo Simulation explicitly for GR model (previously missing)\n",
        "mean_gr, std_gr = monte_carlo_simulation(\n",
        "    radii_gpu, observed_velocities_example, velocity_errors_example,\n",
        "    model_gr, params_gr_mean, params_gr_std\n",
        ")\n",
        "\n",
        "print(\"GR simulation completed.\")\n",
        "\n",
        "# Run Monte Carlo Simulation explicitly for ΛCDM model\n",
        "mean_lcdm, std_lcdm = monte_carlo_simulation(\n",
        "    radii_gpu, observed_velocities_example, velocity_errors_example,\n",
        "    model_lcdm, params_lcdm_mean, params_lcdm_std\n",
        ")\n",
        "\n",
        "print(\"ΛCDM simulation completed.\")\n",
        "\n",
        "# Run Monte Carlo Simulation explicitly for 3T_E model\n",
        "mean_3te, std_3te = monte_carlo_simulation(\n",
        "    radii_gpu, observed_velocities_example, velocity_errors_example,\n",
        "    model_3te, params_3te_mean, params_3te_std\n",
        ")\n",
        "\n",
        "print(\"3T_E simulation completed.\")\n"
      ],
      "metadata": {
        "id": "RFpDqtEvWcP-",
        "colab": {
          "base_uri": "https://localhost:8080/"
        },
        "outputId": "00486347-38a4-4116-8f3c-442a43664dc3"
      },
      "execution_count": null,
      "outputs": [
        {
          "output_type": "stream",
          "name": "stdout",
          "text": [
            "GR simulation completed.\n",
            "ΛCDM simulation completed.\n",
            "3T_E simulation completed.\n"
          ]
        }
      ]
    },
    {
      "cell_type": "markdown",
      "source": [
        "## Statistical Bias Tests\n",
        "Apply linear regression and Kolmogorov–Smirnov tests on residuals to detect biases between observed and simulated data.\n"
      ],
      "metadata": {
        "id": "etrNsTL-Wb5q"
      }
    },
    {
      "cell_type": "code",
      "source": [
        "def analyze_bias(predicted, observed):\n",
        "    residuals = observed - predicted\n",
        "\n",
        "    # Handle any NaNs explicitly\n",
        "    residuals_clean = residuals[~np.isnan(residuals)]\n",
        "    predicted_clean = predicted[~np.isnan(residuals)]\n",
        "    observed_clean = observed[~np.isnan(residuals)]\n",
        "\n",
        "    # Linear regression analysis explicitly\n",
        "    slope, intercept, r_value, p_value, std_err = linregress(predicted_clean, observed_clean)\n",
        "\n",
        "    # Standardize residuals explicitly before KS test\n",
        "    standardized_residuals = (residuals_clean - np.mean(residuals_clean)) / np.std(residuals_clean)\n",
        "    ks_stat, ks_p = kstest(standardized_residuals, 'norm')\n",
        "\n",
        "    return {\n",
        "        'slope': slope,\n",
        "        'intercept': intercept,\n",
        "        'r_value': r_value,\n",
        "        'p_value': p_value,\n",
        "        'std_err': std_err,\n",
        "        'ks_stat': ks_stat,\n",
        "        'ks_p': ks_p\n",
        "    }\n",
        "\n",
        "# Perform Bias Tests explicitly ensuring data integrity\n",
        "bias_gr = analyze_bias(mean_gr, observed_velocities_example)\n",
        "bias_lcdm = analyze_bias(mean_lcdm, observed_velocities_example)\n",
        "bias_3te = analyze_bias(mean_3te, observed_velocities_example)\n",
        "\n",
        "# Display Results clearly formatted\n",
        "print('\\n✅ Model Bias Analysis Results:')\n",
        "print(f'\\n- GR Model Bias:\\n{bias_gr}')\n",
        "print(f'\\n- ΛCDM Model Bias:\\n{bias_lcdm}')\n",
        "print(f'\\n- 3T_E Model Bias:\\n{bias_3te}')"
      ],
      "metadata": {
        "colab": {
          "base_uri": "https://localhost:8080/"
        },
        "id": "BGwhtz_qWbn5",
        "outputId": "5a369554-69d7-4fcd-afb2-7c5ba13b4313"
      },
      "execution_count": null,
      "outputs": [
        {
          "output_type": "stream",
          "name": "stdout",
          "text": [
            "\n",
            "✅ Model Bias Analysis Results:\n",
            "\n",
            "- GR Model Bias:\n",
            "{'slope': np.float64(1.9948303219022725), 'intercept': np.float64(-52.83177271212496), 'r_value': np.float64(0.9048378652933607), 'p_value': np.float64(1.2789189008513509e-09), 'std_err': np.float64(0.20011744516009233), 'ks_stat': np.float64(0.1245376493819694), 'ks_p': np.float64(0.8069629699875166)}\n",
            "\n",
            "- ΛCDM Model Bias:\n",
            "{'slope': np.float64(1.3743136494589785), 'intercept': np.float64(-49.941590537562774), 'r_value': np.float64(0.9455052273166787), 'p_value': np.float64(3.3671976344932064e-12), 'std_err': np.float64(0.10090303025890289), 'ks_stat': np.float64(0.1659083642367608), 'ks_p': np.float64(0.4735686488425682)}\n",
            "\n",
            "- 3T_E Model Bias:\n",
            "{'slope': np.float64(1.9730745381813124), 'intercept': np.float64(-52.54684911959602), 'r_value': np.float64(0.9095886923385353), 'p_value': np.float64(7.447910574028749e-10), 'std_err': np.float64(0.19216238999326024), 'ks_stat': np.float64(0.12527394993620364), 'ks_p': np.float64(0.8014405618463807)}\n"
          ]
        }
      ]
    },
    {
      "cell_type": "markdown",
      "source": [
        "## **Final Results and Visualization**\n",
        "Presenting the rotation curves with clear statistical comparisons (with error bars).\n"
      ],
      "metadata": {
        "id": "SX9WLw2yXKK5"
      }
    },
    {
      "cell_type": "code",
      "source": [
        "# Set your output directory explicitly\n",
        "output_dir = '/content/drive/My Drive/AI/3TE/GALACTIC ROTATION/'\n",
        "\n",
        "# Plot clearly\n",
        "plt.figure(figsize=(10,6))\n",
        "plt.errorbar(radii_example, observed_velocities_example,\n",
        "             yerr=velocity_errors_example, fmt='o', label='Observed', capsize=3)\n",
        "plt.plot(radii_example, mean_gr, label='GR', linestyle='--')\n",
        "plt.plot(radii_example, mean_lcdm, label='ΛCDM', linestyle='--')\n",
        "plt.plot(radii_example, mean_3te, label='3T_E', linestyle='--')\n",
        "plt.xlabel('Radius (kpc)')\n",
        "plt.ylabel('Rotation Velocity (km/s)')\n",
        "plt.legend()\n",
        "plt.grid(True)\n",
        "plt.title('Rotation Curve Comparisons')\n",
        "\n",
        "# Save the figure explicitly to Google Drive\n",
        "plot_path = output_dir + 'rotation_curve_comparisons.png'\n",
        "plt.savefig(plot_path, dpi=300, bbox_inches='tight')\n",
        "plt.show()\n",
        "\n",
        "# Save bias test results explicitly as CSV\n",
        "import pandas as pd\n",
        "\n",
        "bias_df = pd.DataFrame({\n",
        "    'Model': ['GR', 'ΛCDM', '3T_E'],\n",
        "    'Slope': [bias_gr['slope'], bias_lcdm['slope'], bias_3te['slope']],\n",
        "    'Intercept': [bias_gr['intercept'], bias_lcdm['intercept'], bias_3te['intercept']],\n",
        "    'R_value': [bias_gr['r_value'], bias_lcdm['r_value'], bias_3te['r_value']],\n",
        "    'P_value': [bias_gr['p_value'], bias_lcdm['p_value'], bias_3te['p_value']],\n",
        "    'Std_Error': [bias_gr['std_err'], bias_lcdm['std_err'], bias_3te['std_err']],\n",
        "    'KS_Stat': [bias_gr['ks_stat'], bias_lcdm['ks_stat'], bias_3te['ks_stat']],\n",
        "    'KS_P': [bias_gr['ks_p'], bias_lcdm['ks_p'], bias_3te['ks_p']],\n",
        "})\n",
        "\n",
        "bias_csv_path = output_dir + 'rotation_model_bias_analysis.csv'\n",
        "bias_df.to_csv(bias_csv_path, index=False)\n",
        "\n",
        "print(f'✅ Plot and bias analysis saved explicitly to:\\n{output_dir}')"
      ],
      "metadata": {
        "colab": {
          "base_uri": "https://localhost:8080/",
          "height": 535
        },
        "id": "RIXlphGeWWe2",
        "outputId": "43e5c385-5c0f-4e2a-d539-bbf7d07b903f"
      },
      "execution_count": null,
      "outputs": [
        {
          "output_type": "display_data",
          "data": {
            "text/plain": [
              "<Figure size 1000x600 with 1 Axes>"
            ],
            "image/png": "[encoded data removed]"
          },
          "metadata": {}
        },
        {
          "output_type": "stream",
          "name": "stdout",
          "text": [
            "✅ Plot and bias analysis saved explicitly to:\n",
            "/content/drive/My Drive/AI/3TE/GALACTIC ROTATION/\n"
          ]
        }
      ]
    },
    {
      "cell_type": "markdown",
      "source": [
        "Workspace"
      ],
      "metadata": {
        "id": "T3lwMf1Nav4K"
      }
    },
    {
      "cell_type": "code",
      "source": [
        "#!pip uninstall cupy-cuda11x\n",
        "#!pip uninstall cupy-cuda12x\n",
        "#!nvcc --version\n",
        "#!pip install cupy-cuda12x\n",
        "#!pip install cupyx\n",
        "\n",
        "#!sudo apt-get update\n",
        "#!sudo apt-get install -y locales\n",
        "#!sudo locale-gen en_US.UTF-8\n",
        "#!sudo update-locale LANG=en_US.UTF-8 LC_ALL=en_US.UTF-8 # add LC_ALL\n",
        "#import locale\n",
        "#def getpreferredencoding(do_setlocale = True):\n",
        "#    return \"UTF-8\"\n",
        "#locale.getpreferredencoding = getpreferredencoding"
      ],
      "metadata": {
        "id": "VTfvpQ-DawCK"
      },
      "execution_count": null,
      "outputs": []
    }
  ]
}