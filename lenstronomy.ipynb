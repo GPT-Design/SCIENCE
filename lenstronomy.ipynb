{
  "nbformat": 4,
  "nbformat_minor": 0,
  "metadata": {
    "colab": {
      "provenance": [],
      "authorship_tag": "ABX9TyP2o4EHjH3/wCZRl494QR0B",
      "include_colab_link": true
    },
    "kernelspec": {
      "name": "python3",
      "display_name": "Python 3"
    },
    "language_info": {
      "name": "python"
    }
  },
  "cells": [
    {
      "cell_type": "markdown",
      "metadata": {
        "id": "view-in-github",
        "colab_type": "text"
      },
      "source": [
        "<a href=\"https://colab.research.google.com/github/GPT-Design/SCIENCE/blob/main/lenstronomy.ipynb\" target=\"_parent\"><img src=\"https://colab.research.google.com/assets/colab-badge.svg\" alt=\"Open In Colab\"/></a>"
      ]
    },
    {
      "cell_type": "markdown",
      "source": [
        "1. Mount Google Drive, Load FITS file (Hubble Frontier Fields data)"
      ],
      "metadata": {
        "id": "MljE_dYJHk5O"
      }
    },
    {
      "cell_type": "code",
      "source": [
        "# Mount Google Drive\n",
        "from google.colab import drive\n",
        "drive.mount('/content/drive')\n",
        "\n",
        "# Navigate to working directory and list FITS files\n",
        "import os, glob\n",
        "from astropy.io import fits\n",
        "import matplotlib.pyplot as plt\n",
        "\n",
        "os.chdir('/content/drive/My Drive/AI/3TE/LENSING')\n",
        "\n",
        "fits_files = glob.glob('*.fits')\n",
        "print(\"Available FITS files:\", fits_files)\n",
        "\n",
        "# Load first FITS file (as example, replace with loop if desired)\n",
        "fits_image_path = fits_files[0]\n",
        "\n",
        "with fits.open(fits_image_path) as hdul:\n",
        "    image_data = hdul[0].data\n",
        "\n",
        "plt.imshow(image_data, origin='lower', cmap='inferno', vmax=image_data.mean() + 3*image_data.std())\n",
        "plt.colorbar(label='Pixel intensity')\n",
        "plt.title('HFF Lensing Image')\n",
        "plt.show()\n"
      ],
      "metadata": {
        "id": "ELqVoiGaJVSC"
      },
      "execution_count": null,
      "outputs": []
    },
    {
      "cell_type": "markdown",
      "source": [
        " 2. lenstronomy Setup"
      ],
      "metadata": {
        "id": "TGSL3ZbgHllf"
      }
    },
    {
      "cell_type": "code",
      "source": [
        "# Ensure lenstronomy is installed:\n",
        "!pip install lenstronomy==1.12.5"
      ],
      "metadata": {
        "id": "KFZ5pc5lHltM"
      },
      "execution_count": null,
      "outputs": []
    },
    {
      "cell_type": "markdown",
      "source": [
        "3. Define lens model and parameters\n",
        "Here's a basic example using a Singular Isothermal Ellipsoid (SIE). Replace or extend this model according to the specifics of your 3T_E parameters."
      ],
      "metadata": {
        "id": "uIdPeCBjHl6p"
      }
    },
    {
      "cell_type": "code",
      "source": [
        "from lenstronomy.LensModel.lens_model import LensModel\n",
        "import numpy as np\n",
        "\n",
        "# Singular Isothermal Ellipsoid (SIE) lens model\n",
        "lens_model_list = ['SIE']\n",
        "\n",
        "# Example parameters, adjust as necessary for your data\n",
        "kwargs_lens = [{\n",
        "    'theta_E': 1.2,  # Einstein radius (arcsec)\n",
        "    'e1': 0.05,\n",
        "    'e2': -0.05,\n",
        "    'center_x': 0.0,\n",
        "    'center_y': 0.0\n",
        "}]\n",
        "\n",
        "# Instantiate lens model\n",
        "lens_model = LensModel(lens_model_list=lens_model_list)\n"
      ],
      "metadata": {
        "id": "xRDNme6lHmBZ"
      },
      "execution_count": null,
      "outputs": []
    },
    {
      "cell_type": "markdown",
      "source": [
        "4. Data Configuration for lenstronomy"
      ],
      "metadata": {
        "id": "K9mgIR8EHmHn"
      }
    },
    {
      "cell_type": "code",
      "source": [
        "from lenstronomy.Data.imaging_data import ImageData\n",
        "\n",
        "pixel_scale = 0.06  # Adjust to your FITS files' actual pixel scale\n",
        "\n",
        "# Set up image data for lenstronomy\n",
        "data_class = ImageData(image_data=image_data, pixel_scale=pixel_scale)\n"
      ],
      "metadata": {
        "id": "AAv2Ml00HmNb"
      },
      "execution_count": null,
      "outputs": []
    },
    {
      "cell_type": "markdown",
      "source": [
        "5. Define Source Light Model\n",
        "Use a simple model to start, and expand later if needed."
      ],
      "metadata": {
        "id": "zzYyONmTHmTL"
      }
    },
    {
      "cell_type": "code",
      "source": [
        "from lenstronomy.LightModel.light_model import LightModel\n",
        "\n",
        "source_model_list = ['SERSIC_ELLIPSE']\n",
        "source_model = LightModel(light_model_list=source_model_list)\n",
        "\n",
        "kwargs_source = [{\n",
        "    'amp': 100,\n",
        "    'R_sersic': 0.3,\n",
        "    'n_sersic': 2.0,\n",
        "    'e1': 0.0,\n",
        "    'e2': 0.0,\n",
        "    'center_x': 0.0,\n",
        "    'center_y': 0.0\n",
        "}]"
      ],
      "metadata": {
        "id": "XJuEGZgSHmZb"
      },
      "execution_count": null,
      "outputs": []
    },
    {
      "cell_type": "markdown",
      "source": [
        "6. Image Simulation and Visualization"
      ],
      "metadata": {
        "id": "btyjkF0-Hmfi"
      }
    },
    {
      "cell_type": "code",
      "source": [
        "from lenstronomy.ImSim.image_model import ImageModel\n",
        "\n",
        "imageModel = ImageModel(data_class=data_class,\n",
        "                        lens_model_class=lens_model,\n",
        "                        source_model_class=source_model)\n",
        "\n",
        "# Generate model image\n",
        "model_image = imageModel.image(kwargs_lens=kwargs_lens, kwargs_source=kwargs_source)\n",
        "\n",
        "# Plot the modeled lensing effect\n",
        "plt.figure(figsize=(12, 6))\n",
        "\n",
        "plt.subplot(1, 2, 1)\n",
        "plt.title('Observed Data')\n",
        "plt.imshow(image_data, origin='lower', cmap='inferno')\n",
        "plt.colorbar()\n",
        "\n",
        "plt.subplot(1, 2, 2)\n",
        "plt.title('Modeled Lensing (SIE)')\n",
        "plt.imshow(model_image, origin='lower', cmap='inferno')\n",
        "plt.colorbar()\n",
        "\n",
        "plt.tight_layout()\n",
        "plt.show()\n"
      ],
      "metadata": {
        "id": "ZNBVH-33HmlI"
      },
      "execution_count": null,
      "outputs": []
    },
    {
      "cell_type": "markdown",
      "source": [
        "7. External Validation of 3T_E Gravity"
      ],
      "metadata": {
        "id": "Y1fm2_YnHmrA"
      }
    },
    {
      "cell_type": "code",
      "source": [
        "# Replace with your derived 3T_E parameters\n",
        "kwargs_lens_3TE = [{\n",
        "    'theta_E': 1.2,\n",
        "    'e1': 0.05,\n",
        "    'e2': 0.02,\n",
        "    'center_x': 0.01,\n",
        "    'center_y': -0.02\n",
        "}]\n",
        "\n",
        "# Generate 3T_E predicted lensing image\n",
        "model_image_3TE = imageModel.image(kwargs_lens=kwargs_lens_3TE, kwargs_source=kwargs_source)\n",
        "\n",
        "# Visualization\n",
        "plt.figure(figsize=(18, 6))\n",
        "\n",
        "plt.subplot(1, 3, 1)\n",
        "plt.title('Observed Data')\n",
        "plt.imshow(image_data, origin='lower', cmap='inferno')\n",
        "plt.colorbar()\n",
        "\n",
        "plt.subplot(1, 3, 2)\n",
        "plt.title('SIE (Reference)')\n",
        "plt.imshow(model_image, origin='lower', cmap='inferno')\n",
        "plt.colorbar()\n",
        "\n",
        "plt.subplot(1, 3, 3)\n",
        "plt.title('3T_E Predicted')\n",
        "plt.imshow(model_image_3TE, origin='lower', cmap='inferno')\n",
        "plt.colorbar()\n",
        "\n",
        "plt.tight_layout()\n",
        "plt.show()\n"
      ],
      "metadata": {
        "id": "gel658FYHmxC"
      },
      "execution_count": null,
      "outputs": []
    },
    {
      "cell_type": "markdown",
      "source": [
        "8. Statistical Comparison and Validation (Optional but recommended)"
      ],
      "metadata": {
        "id": "2socm4HgHm2o"
      }
    },
    {
      "cell_type": "code",
      "source": [
        "from lenstronomy.Workflow.fitting_sequence import FittingSequence\n",
        "from scipy.stats import linregress, kstest\n",
        "\n",
        "# Setup for fitting sequence\n",
        "kwargs_params = {\n",
        "    'lens_model': [kwargs_lens_3TE],\n",
        "    'source_model': [kwargs_source],\n",
        "}\n",
        "\n",
        "fitting_seq = FittingSequence(\n",
        "    kwargs_data={'image_data': image_data, 'pixel_scale': pixel_scale},\n",
        "    kwargs_model={\n",
        "        'lens_model_list': lens_model_list,\n",
        "        'source_light_model_list': source_model_list,\n",
        "    },\n",
        "    kwargs_constraints={},\n",
        "    kwargs_likelihood={},\n",
        "    kwargs_params=kwargs_params,\n",
        ")\n",
        "\n",
        "# Run Monte Carlo parameter fitting (MCMC)\n",
        "fitting_kwargs_list = [['MCMC', {'n_burn': 200, 'n_run': 500, 'walkerRatio': 10}]]\n",
        "chain_list = fitting_seq.fit_sequence(fitting_kwargs_list)\n",
        "\n",
        "# Retrieve best-fit model\n",
        "result = fitting_seq.best_fit()\n",
        "\n",
        "# Statistical Bias Analysis\n",
        "observed_flat = image_data.flatten()\n",
        "predicted_flat = model_image_3TE.flatten()\n",
        "\n",
        "# Clean NaN values explicitly\n",
        "valid_mask = ~np.isnan(observed_flat) & ~np.isnan(predicted_flat)\n",
        "observed_clean = observed_flat[valid_mask]\n",
        "predicted_clean = predicted_flat[valid_mask]\n",
        "\n",
        "# Linear regression\n",
        "slope, intercept, r_value, p_value, std_err = linregress(predicted_clean, observed_clean)\n",
        "\n",
        "# Standardized residuals for K-S test\n",
        "residuals = observed_clean - predicted_clean\n",
        "standardized_residuals = (residuals - residuals.mean()) / residuals.std()\n",
        "\n",
        "# Kolmogorov-Smirnov test\n",
        "ks_stat, ks_p = kstest(standardized_residuals, 'norm')\n",
        "\n",
        "# Display statistical results\n",
        "print(\"\\nLinear Regression Results:\")\n",
        "print(f\"Slope: {slope:.4f}, Intercept: {intercept:.4f}, R-value: {r_value:.4f}, p-value: {p_value:.4e}, Std Error: {std_err:.4f}\")\n",
        "\n",
        "print(\"\\nKolmogorov-Smirnov Test Results:\")\n",
        "print(f\"KS Statistic: {ks_stat:.4f}, KS p-value: {ks_p:.4f}\")\n"
      ],
      "metadata": {
        "id": "jTULyJILHm8e"
      },
      "execution_count": null,
      "outputs": []
    },
    {
      "cell_type": "markdown",
      "source": [
        "Workspace - Parameter Search for Lenstronomy variables"
      ],
      "metadata": {
        "id": "BdNFzHrltRKg"
      }
    },
    {
      "cell_type": "code",
      "source": [
        "# Mount Google Drive\n",
        "from google.colab import drive\n",
        "drive.mount('/content/drive')"
      ],
      "metadata": {
        "id": "Qk9PxBmfHnUy",
        "colab": {
          "base_uri": "https://localhost:8080/"
        },
        "outputId": "df92e524-cc5c-413c-8d7e-44753e3daf74"
      },
      "execution_count": 1,
      "outputs": [
        {
          "output_type": "stream",
          "name": "stdout",
          "text": [
            "Mounted at /content/drive\n"
          ]
        }
      ]
    },
    {
      "cell_type": "code",
      "source": [
        "# Navigate to working directory\n",
        "import os\n",
        "os.chdir('/content/drive/My Drive/AI/3TE/LENSING/')\n",
        "\n",
        "# Confirm file is accessible\n",
        "!ls"
      ],
      "metadata": {
        "id": "h5f6_TrtHnXt",
        "colab": {
          "base_uri": "https://localhost:8080/"
        },
        "outputId": "34348ba0-b650-489a-ccaa-761f7d749c8c"
      },
      "execution_count": 11,
      "outputs": [
        {
          "output_type": "stream",
          "name": "stdout",
          "text": [
            " hlsp_frontier_hst_acs-60mas_abell370_f435w_v1.0-epoch1_drz.fits\n",
            " hlsp_frontier_hst_acs-60mas_abell370_f475w_v0.2_drz.fits\n",
            " hlsp_frontier_hst_acs-60mas_abell370_f814w_v1.0-epoch1_drz.fits\n",
            " hlsp_frontier_hst_acs-60mas_abell370-hffpar_f814w_v1.0-epoch1_drz.fits\n",
            " hlsp_frontier_hst_acs-60mas_abell370-hffpar_f814w_v1.0-epoch2_drz.fits\n",
            " hlsp_frontier_hst_acs-60mas-selfcal_abell370-hffpar_f435w_v1.0-epoch2_drz.fits\n",
            " hlsp_frontier_hst_wfc3-60mas_abell370_f160w_v1.0-epoch2_drz.fits\n",
            " hlsp_frontier_hst_wfc3-60mas-bkgdcor_abell370_f125w_v1.0-epoch2_drz.fits\n",
            " hlsp_frontier_hst_wfc3-60mas-bkgdcor_abell370_f160w_v1.0-epoch2_drz.fits\n",
            " hlsp_frontier_hst_wfc3ir-60mas_abell370_f140w_v0.2_drz.fits\n",
            " hlsp_frontier_hst_wfc3ir-60mas_abell370_f160w_v0.2_drz.fits\n",
            "'LENSING assumptions.gdoc'\n",
            " parameter_search_summary.csv\n",
            " SOURCES:.gdoc\n"
          ]
        }
      ]
    },
    {
      "cell_type": "code",
      "source": [
        "import pandas as pd\n",
        "\n",
        "# Load parameter search results\n",
        "results_df = pd.read_csv('parameter_search_summary.csv')\n",
        "\n",
        "# Inspect the DataFrame structure and content\n",
        "print(results_df.head())\n"
      ],
      "metadata": {
        "id": "xa_BszVaHnag",
        "colab": {
          "base_uri": "https://localhost:8080/"
        },
        "outputId": "f7be00c0-944f-4bb1-d1c3-61e3accdf85f"
      },
      "execution_count": 12,
      "outputs": [
        {
          "output_type": "stream",
          "name": "stdout",
          "text": [
            "                                                File  Best_alpha  \\\n",
            "0  hlsp_frontier_hst_acs-60mas-selfcal_abell370-h...      0.0001   \n",
            "1  hlsp_frontier_hst_acs-60mas_abell370-hffpar_f8...      0.0001   \n",
            "2  hlsp_frontier_hst_acs-60mas_abell370-hffpar_f8...      0.0001   \n",
            "3  hlsp_frontier_hst_acs-60mas_abell370_f435w_v1....      0.0001   \n",
            "4  hlsp_frontier_hst_acs-60mas_abell370_f475w_v0....      0.0001   \n",
            "\n",
            "   Best_entropy_gradient  Mean_Potential  CI_Lower  CI_Upper  LR_slope  \\\n",
            "0               0.000100        0.000074 -0.000084 -0.000011       1.0   \n",
            "1               0.007525        0.001067  0.000566  0.000867       1.0   \n",
            "2               0.000100        0.001032  0.000475  0.000740       1.0   \n",
            "3               0.005050        0.001168  0.000201  0.000289       1.0   \n",
            "4               0.000100        0.001640  0.000365  0.001049       1.0   \n",
            "\n",
            "   LR_intercept  LR_r_value  LR_p_value   KS_stat  KS_p  \n",
            "0  3.442613e-15         1.0         0.0  0.472087   0.0  \n",
            "1 -1.147252e-10         1.0         0.0  0.434950   0.0  \n",
            "2  1.198997e-14         1.0         0.0  0.474951   0.0  \n",
            "3 -1.272804e-12         1.0         0.0  0.485765   0.0  \n",
            "4  1.475324e-13         1.0         0.0  0.472887   0.0  \n"
          ]
        }
      ]
    },
    {
      "cell_type": "code",
      "source": [
        "# Load parameter search results\n",
        "results_df = pd.read_csv('parameter_search_summary.csv')\n",
        "\n",
        "# Identify optimal parameters (row with highest Mean_Potential)\n",
        "optimal_row = results_df.loc[results_df['Mean_Potential'].idxmax()]\n",
        "print(\"Optimal Parameters Found:\")\n",
        "print(optimal_row)\n",
        "\n"
      ],
      "metadata": {
        "colab": {
          "base_uri": "https://localhost:8080/"
        },
        "id": "w3oY47vxwKew",
        "outputId": "1a44503b-3f9a-4591-dafc-efe49c356dbd"
      },
      "execution_count": 14,
      "outputs": [
        {
          "output_type": "stream",
          "name": "stdout",
          "text": [
            "Optimal Parameters Found:\n",
            "File                     hlsp_frontier_hst_wfc3ir-60mas_abell370_f140w_...\n",
            "Best_alpha                                                          0.0001\n",
            "Best_entropy_gradient                                               0.0001\n",
            "Mean_Potential                                                    0.008894\n",
            "CI_Lower                                                          0.005262\n",
            "CI_Upper                                                          0.020388\n",
            "LR_slope                                                               1.0\n",
            "LR_intercept                                                          -0.0\n",
            "LR_r_value                                                             1.0\n",
            "LR_p_value                                                             0.0\n",
            "KS_stat                                                           0.498072\n",
            "KS_p                                                                   0.0\n",
            "Name: 9, dtype: object\n"
          ]
        }
      ]
    }
  ]
}