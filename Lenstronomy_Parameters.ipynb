{
  "nbformat": 4,
  "nbformat_minor": 0,
  "metadata": {
    "colab": {
      "provenance": [],
      "authorship_tag": "ABX9TyP+/A56fN9moanhGJDIkeTx",
      "include_colab_link": true
    },
    "kernelspec": {
      "name": "python3",
      "display_name": "Python 3"
    },
    "language_info": {
      "name": "python"
    }
  },
  "cells": [
    {
      "cell_type": "markdown",
      "metadata": {
        "id": "view-in-github",
        "colab_type": "text"
      },
      "source": [
        "<a href=\"https://colab.research.google.com/github/GPT-Design/SCIENCE/blob/main/Lenstronomy_Parameters.ipynb\" target=\"_parent\"><img src=\"https://colab.research.google.com/assets/colab-badge.svg\" alt=\"Open In Colab\"/></a>"
      ]
    },
    {
      "cell_type": "code",
      "execution_count": null,
      "metadata": {
        "colab": {
          "base_uri": "https://localhost:8080/"
        },
        "id": "lFH61Ixq_Gfp",
        "outputId": "2ff52a93-bb27-432e-d5bb-ad5613b9c509"
      },
      "outputs": [
        {
          "output_type": "stream",
          "name": "stdout",
          "text": [
            "Mounted at /content/drive\n"
          ]
        }
      ],
      "source": [
        "# Mount Google Drive\n",
        "from google.colab import drive\n",
        "drive.mount('/content/drive')"
      ]
    },
    {
      "cell_type": "code",
      "source": [
        "# Navigate to working directory\n",
        "import os\n",
        "os.chdir('/content/drive/My Drive/AI/3TE/LENSING/')\n",
        "\n",
        "# Confirm file is accessible\n",
        "!ls"
      ],
      "metadata": {
        "colab": {
          "base_uri": "https://localhost:8080/"
        },
        "id": "5vAGd0pUSZiJ",
        "outputId": "88fc1097-549b-476b-aa78-ea42c0279e1d"
      },
      "execution_count": null,
      "outputs": [
        {
          "output_type": "stream",
          "name": "stdout",
          "text": [
            " hlsp_frontier_hst_acs-60mas_abell370_f435w_v1.0-epoch1_drz.fits\n",
            " hlsp_frontier_hst_acs-60mas_abell370_f475w_v0.2_drz.fits\n",
            " hlsp_frontier_hst_acs-60mas_abell370_f814w_v1.0-epoch1_drz.fits\n",
            " hlsp_frontier_hst_acs-60mas_abell370-hffpar_f814w_v1.0-epoch1_drz.fits\n",
            " hlsp_frontier_hst_acs-60mas_abell370-hffpar_f814w_v1.0-epoch2_drz.fits\n",
            " hlsp_frontier_hst_acs-60mas-selfcal_abell370-hffpar_f435w_v1.0-epoch2_drz.fits\n",
            " hlsp_frontier_hst_wfc3-60mas_abell370_f160w_v1.0-epoch2_drz.fits\n",
            " hlsp_frontier_hst_wfc3-60mas-bkgdcor_abell370_f125w_v1.0-epoch2_drz.fits\n",
            " hlsp_frontier_hst_wfc3-60mas-bkgdcor_abell370_f160w_v1.0-epoch2_drz.fits\n",
            " hlsp_frontier_hst_wfc3ir-60mas_abell370_f140w_v0.2_drz.fits\n",
            " hlsp_frontier_hst_wfc3ir-60mas_abell370_f160w_v0.2_drz.fits\n",
            "'LENSING assumptions.gdoc'\n",
            " parameter_search_summary.csv\n",
            " parameter_search_summaryOLD.csv\n",
            " SOURCES:.gdoc\n"
          ]
        }
      ]
    },
    {
      "cell_type": "code",
      "source": [
        "import pandas as pd\n",
        "import numpy as np\n",
        "\n",
        "# Load lensing analysis data\n",
        "data = pd.read_csv(\"parameter_search_summary.csv\")\n",
        "\n",
        "# Optimal row with highest lensing potential\n",
        "optimal_row = data.loc[data['Mean_Potential'].idxmax()]\n",
        "\n",
        "# Einstein Radius (theta_E)\n",
        "k_theta = 1.0  # Adjust with empirical calibration\n",
        "theta_E = k_theta * np.sqrt(optimal_row['Mean_Potential'])\n",
        "\n",
        "# Ellipticity (e1, e2)\n",
        "entropy_gradient = optimal_row['Best_entropy_gradient']\n",
        "e_magnitude = np.tanh(entropy_gradient * 100)\n",
        "\n",
        "e1 = e_magnitude / np.sqrt(2)\n",
        "e2 = e_magnitude / np.sqrt(2)\n",
        "\n",
        "# Lens Center (center_x, center_y)\n",
        "center_x, center_y = 0.0, 0.0\n",
        "\n",
        "# Summarize results explicitly\n",
        "lensing_params = {\n",
        "    'Einstein Radius (theta_E)': theta_E,\n",
        "    'Ellipticity e1': e1,\n",
        "    'Ellipticity e2': e2,\n",
        "    'Lens center_x': center_x,\n",
        "    'Lens center_y': center_y,\n",
        "}\n",
        "\n",
        "print(\"Extracted Lensing Parameters:\")\n",
        "for k, v in lensing_params.items():\n",
        "    print(f\"{k:25}: {v:.6f}\")\n"
      ],
      "metadata": {
        "colab": {
          "base_uri": "https://localhost:8080/"
        },
        "id": "BIDtt60mSZfq",
        "outputId": "81aa79d2-603f-4d0f-d04d-5309adf679ba"
      },
      "execution_count": null,
      "outputs": [
        {
          "output_type": "stream",
          "name": "stdout",
          "text": [
            "Extracted Lensing Parameters:\n",
            "Einstein Radius (theta_E): 0.094306\n",
            "Ellipticity e1           : 0.007071\n",
            "Ellipticity e2           : 0.007071\n",
            "Lens center_x            : 0.000000\n",
            "Lens center_y            : 0.000000\n"
          ]
        }
      ]
    },
    {
      "cell_type": "markdown",
      "source": [
        "Workspace, spare modules and such"
      ],
      "metadata": {
        "id": "HsBWr6vhojeU"
      }
    },
    {
      "cell_type": "code",
      "source": [
        "import pandas as pd\n",
        "\n",
        "# Load parameter search results\n",
        "results_df = pd.read_csv('parameter_search_summary.csv')\n",
        "\n",
        "# Inspect the DataFrame structure and content\n",
        "print(results_df.head())"
      ],
      "metadata": {
        "id": "yhHvyUVsoQvt"
      },
      "execution_count": null,
      "outputs": []
    },
    {
      "cell_type": "code",
      "source": [
        "# Load parameter search results\n",
        "results_df = pd.read_csv('parameter_search_summary.csv')\n",
        "\n",
        "# Identify optimal parameters (row with highest Mean_Potential)\n",
        "optimal_row = results_df.loc[results_df['Mean_Potential'].idxmax()]\n",
        "print(\"Optimal Parameters Found:\")\n",
        "print(optimal_row)"
      ],
      "metadata": {
        "id": "oO8j4Nizobd1"
      },
      "execution_count": null,
      "outputs": []
    }
  ]
}